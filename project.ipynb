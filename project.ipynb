{
 "cells": [
  {
   "cell_type": "code",
   "execution_count": 1,
   "id": "785fc004",
   "metadata": {},
   "outputs": [],
   "source": [
    "import os\n",
    "import random\n",
    "\n",
    "from ir_system import IrSystem\n",
    "from movie_description import read_movie_description\n"
   ]
  },
  {
   "cell_type": "code",
   "execution_count": 2,
   "id": "c0659bc3",
   "metadata": {},
   "outputs": [],
   "source": [
    "corpus = read_movie_description('../Code IR/data/movie.metadata.tsv', '../Code IR/data/plot_summaries.txt')"
   ]
  },
  {
   "cell_type": "code",
   "execution_count": 3,
   "id": "47838672",
   "metadata": {},
   "outputs": [
    {
     "name": "stderr",
     "output_type": "stream",
     "text": [
      "100%|██████████| 42204/42204 [00:11<00:00, 3708.98it/s]\n",
      "100%|██████████| 42204/42204 [00:13<00:00, 3121.16it/s]\n"
     ]
    }
   ],
   "source": [
    "ir = IrSystem.from_corpus(corpus)"
   ]
  },
  {
   "cell_type": "code",
   "execution_count": 4,
   "id": "497473f7",
   "metadata": {},
   "outputs": [
    {
     "data": {
      "text/plain": [
       "[Lord of the Flies]"
      ]
     },
     "execution_count": 4,
     "metadata": {},
     "output_type": "execute_result"
    }
   ],
   "source": [
    "ir.phrase_query('speak during meetings')"
   ]
  },
  {
   "cell_type": "code",
   "execution_count": 5,
   "id": "78650a7b",
   "metadata": {},
   "outputs": [
    {
     "data": {
      "text/plain": [
       "[Amici miei,\n",
       " Wiggle Time,\n",
       " Battling with Buffalo Bill,\n",
       " Dobrynya Nikitich and Zmey Gorynych,\n",
       " A Pleasant Journey,\n",
       " Narendra Makan Jayakanthan Vaka,\n",
       " La Tía Alejandra,\n",
       " Kasoor,\n",
       " Tarzan and the Leopard Woman,\n",
       " Anne of Green Gables,\n",
       " Vanakkam Thalaiva,\n",
       " Little Lili,\n",
       " Technotise Edit & I,\n",
       " Stalingrad,\n",
       " India: Kingdom of the Tiger,\n",
       " The Marshal of Windy Hollow,\n",
       " The Burning Train,\n",
       " Yavanika,\n",
       " Like a Dragon,\n",
       " Heartbreaker,\n",
       " Book Revue,\n",
       " Acid Factory,\n",
       " Bombay Talkie,\n",
       " The Butler's in Love,\n",
       " Вчера,\n",
       " Amen.,\n",
       " Libertas,\n",
       " Journey to the Beginning of Time,\n",
       " Blitz Wolf,\n",
       " Quest of the Delta Knights,\n",
       " Jakob the Liar,\n",
       " Return to Oz,\n",
       " Oh My God,\n",
       " Everyone's Hero,\n",
       " California Dreamin',\n",
       " Once Upon a Crime...,\n",
       " Mahaul Theek Hai,\n",
       " The Mahabharata,\n",
       " Blowup,\n",
       " Ghost Story,\n",
       " Fatal Termination,\n",
       " Vinayaka Chaviti,\n",
       " The Story of Osaka Castle,\n",
       " The Interpreter,\n",
       " The 5th Quarter,\n",
       " How High,\n",
       " Aayushkalam,\n",
       " Nights and Days,\n",
       " Land of Doom,\n",
       " How the Grinch Stole Christmas!,\n",
       " Paramanandayya Shishyula Katha,\n",
       " Sweeney 2,\n",
       " Totally Fucked Up,\n",
       " Nefertiti, figlia del sole,\n",
       " Raja Makutam,\n",
       " Diagnosis: Death,\n",
       " The Cabinet of Dr. Caligari,\n",
       " Return of Mr. Superman,\n",
       " Lady Godiva of Coventry,\n",
       " Arctic Blast,\n",
       " Deadline Auto Theft,\n",
       " Gorgeous,\n",
       " Soccer Dog: European Cup,\n",
       " Little Soldiers,\n",
       " The Racket,\n",
       " Pasión de gavilanes,\n",
       " Nizhalkuthu,\n",
       " The Water Margin,\n",
       " Kin-Dza-Dza,\n",
       " Ex-Lady,\n",
       " Blanche Fury,\n",
       " Lisbon Story,\n",
       " Believe,\n",
       " The Best Little Whorehouse in Texas,\n",
       " Laadam,\n",
       " Anbe Vaa,\n",
       " The Cabinet of Dr. Caligari,\n",
       " Polygon,\n",
       " Dreamscape,\n",
       " The Pope Must Die,\n",
       " Babes in Toyland,\n",
       " A Feather in His Hare,\n",
       " Tegan the Vegan,\n",
       " Cars 2,\n",
       " Arabesque,\n",
       " Abraham,\n",
       " Arunachalam,\n",
       " The Night Before Christmas,\n",
       " The Class of Nuke 'Em High 3: The Good, the Bad and the Subhumanoid,\n",
       " The Adventures of Mark Twain,\n",
       " Modhi Vilayadu,\n",
       " 29th Street,\n",
       " Colonel Blood,\n",
       " Blackball,\n",
       " Bhargavacharitham Moonam Khandam,\n",
       " Love Me Tender,\n",
       " Moss & Cat,\n",
       " Thaïs,\n",
       " National Lampoon's Senior Trip,\n",
       " Lumumba,\n",
       " Wake Me When The War Is Over,\n",
       " Married in Name Only,\n",
       " The Divine Woman,\n",
       " The Engagement Ring,\n",
       " Dracula,\n",
       " The World's Greatest Athlete,\n",
       " I Love to Singa,\n",
       " Afinidades,\n",
       " À gauche en sortant de l'ascenseur,\n",
       " The Chase,\n",
       " Viva Knievel!,\n",
       " How I Wonder What You Are,\n",
       " Gold Raiders,\n",
       " The Dognapper,\n",
       " Dead Man's Letters,\n",
       " Guys and Dolls,\n",
       " The Ghost of Slumber Mountain,\n",
       " Yamudiki Mogudu,\n",
       " Noriko's Dinner Table,\n",
       " Nate and Hayes,\n",
       " Be Cool,\n",
       " Tattoo]"
      ]
     },
     "execution_count": 5,
     "metadata": {},
     "output_type": "execute_result"
    }
   ],
   "source": [
    "ir.phrase_query('the plot is')"
   ]
  },
  {
   "cell_type": "code",
   "execution_count": 6,
   "id": "3caaeedd",
   "metadata": {},
   "outputs": [
    {
     "name": "stdout",
     "output_type": "stream",
     "text": [
      "13 161 179\n"
     ]
    }
   ],
   "source": [
    "print(len(ir.query('yoda')), len(ir.query(\n",
    "    'luke')), len(ir.query('wars')))"
   ]
  },
  {
   "cell_type": "code",
   "execution_count": 7,
   "id": "010076d4",
   "metadata": {},
   "outputs": [
    {
     "data": {
      "text/plain": [
       "[Dog Days,\n",
       " The Boys from Brazil,\n",
       " The Damned,\n",
       " Tintin and the Blue Oranges,\n",
       " The Sandlot,\n",
       " The Dog Who Saved Christmas Vacation,\n",
       " Our Idiot Brother,\n",
       " Band of the Hand,\n",
       " FernGully 2: The Magical Rescue,\n",
       " Eden Lake,\n",
       " Calling All Curs,\n",
       " The Breed,\n",
       " The Wild Child,\n",
       " The X Files 2,\n",
       " Oliver Twist,\n",
       " I Was Born But...,\n",
       " Simon Says,\n",
       " The Hangnail,\n",
       " An Inn in Tokyo,\n",
       " Men In Fright,\n",
       " The Return of a Man Called Horse,\n",
       " The Sandlot 2,\n",
       " South Park: Bigger, Longer & Uncut,\n",
       " Air Buddies,\n",
       " Red,\n",
       " Sorority Boys,\n",
       " Barbie and the Diamond Castle,\n",
       " Wilderness,\n",
       " Red State,\n",
       " Blue Collar Comedy Tour: One For the Road,\n",
       " Zombies on Broadway,\n",
       " Lottery Ticket,\n",
       " The Odd Couple]"
      ]
     },
     "execution_count": 7,
     "metadata": {},
     "output_type": "execute_result"
    }
   ],
   "source": [
    "ir.query('boys AND dogs NOT cat')"
   ]
  },
  {
   "cell_type": "code",
   "execution_count": 8,
   "id": "fafb33ff",
   "metadata": {},
   "outputs": [
    {
     "data": {
      "text/plain": [
       "[Dark Water,\n",
       " House,\n",
       " The Jazz Singer,\n",
       " A Witch's Tangled Hare,\n",
       " Look Who's Talking Too,\n",
       " The Life of Reilly,\n",
       " Bimbo's Express,\n",
       " Hansel and Gretel,\n",
       " Phone Booth,\n",
       " Queen of the Damned,\n",
       " Ghost Town,\n",
       " Ghosts,\n",
       " Touchstone: Dancing With Angels,\n",
       " The Weather Man,\n",
       " The Friendly Ghost,\n",
       " Say Hello to Yesterday,\n",
       " Grave Encounters,\n",
       " Duets,\n",
       " The Strangers,\n",
       " Hello Dolly!,\n",
       " Martian Through Georgia,\n",
       " The Daffy Doc,\n",
       " A Star Is Born,\n",
       " Heartlands,\n",
       " Crazy People,\n",
       " WALL-E,\n",
       " A Star Is Born,\n",
       " Sweet Home Alabama,\n",
       " Takeshis',\n",
       " Closer,\n",
       " Old School,\n",
       " The Nutcracker Prince,\n",
       " Jazzin' for Blue Jean,\n",
       " Prom Night II,\n",
       " The Day After,\n",
       " Bugs and Thugs,\n",
       " I Could Go On Singing,\n",
       " Din of Celestial Birds,\n",
       " A Fine Feathered Frenzy,\n",
       " One False Move,\n",
       " Psychomania,\n",
       " Trapped in the Closet Chapters 13–22,\n",
       " Easy Money,\n",
       " Atlantic Rhapsody,\n",
       " Love Bites,\n",
       " Tom and Cherie,\n",
       " Sleepless in Seattle,\n",
       " Yummy Yummy,\n",
       " The Adventure of Iron Pussy,\n",
       " Tetsuo: The Iron Man,\n",
       " An Affair to Remember,\n",
       " Motel Hell,\n",
       " I'm Here,\n",
       " 28 Days Later,\n",
       " Jerry Maguire,\n",
       " The Hole,\n",
       " Love Affair,\n",
       " Basil,\n",
       " The Stepford Wives,\n",
       " Wake Up Jeff,\n",
       " Claire Dolan,\n",
       " The In-Laws]"
      ]
     },
     "execution_count": 8,
     "metadata": {},
     "output_type": "execute_result"
    }
   ],
   "source": [
    "ir.query('hello')"
   ]
  },
  {
   "cell_type": "code",
   "execution_count": 9,
   "id": "9c847abe",
   "metadata": {},
   "outputs": [],
   "source": [
    "# === STEP 1: carica descrizioni ===\n",
    "descriptions = {}\n",
    "with open('../Code IR/data/plot_summaries.txt', 'r', encoding='utf-8') as f:\n",
    "    for line in f:\n",
    "        parts = line.strip().split('\\t', 1)\n",
    "        if len(parts) == 2:\n",
    "            movie_id, desc = parts\n",
    "            descriptions[movie_id] = desc\n",
    "\n",
    "# === STEP 2: carica titoli dal file metadati ===\n",
    "titles = {}\n",
    "with open('../Code IR/data/movie.metadata.tsv', 'r', encoding='utf-8') as f:\n",
    "    for line in f:\n",
    "        parts = line.strip().split('\\t')\n",
    "        if len(parts) >= 3:\n",
    "            movie_id = parts[0]\n",
    "            title = parts[2]\n",
    "            titles[movie_id] = title\n",
    "\n",
    "# === STEP 3: ID comuni ===\n",
    "common_ids = list(set(descriptions.keys()) & set(titles.keys()))\n",
    "random.shuffle(common_ids)\n",
    "\n",
    "# === STEP 4: dividili in 3 parti ===\n",
    "n = len(common_ids)\n",
    "part1_ids = common_ids[:n//3]\n",
    "part2_ids = common_ids[n//3:2*n//3]\n",
    "part3_ids = common_ids[2*n//3:]\n",
    "\n",
    "# === Crea la cartella se non esiste ===\n",
    "output_dir = \"splits\"\n",
    "os.makedirs(output_dir, exist_ok=True)\n",
    "\n",
    "# === Funzione aggiornata per scrivere file ===\n",
    "def write_split(filename, ids, data_dict, pad_column=False):\n",
    "    with open(os.path.join(output_dir, filename), 'w', encoding='utf-8') as f:\n",
    "        for movie_id in ids:\n",
    "            if pad_column:\n",
    "                f.write(f\"{movie_id}\\t\\t{data_dict[movie_id]}\\n\")  # Titolo in posizione 2\n",
    "            else:\n",
    "                f.write(f\"{movie_id}\\t{data_dict[movie_id]}\\n\")  # Descrizione standard\n",
    "\n",
    "# === Scrivi descrizioni ===\n",
    "write_split('descriptions_part1.txt', part1_ids, descriptions)\n",
    "write_split('descriptions_part2.txt', part2_ids, descriptions)\n",
    "write_split('descriptions_part3.txt', part3_ids, descriptions)\n",
    "\n",
    "# === Scrivi titoli con colonna vuota al centro ===\n",
    "write_split('titles_part1.txt', part1_ids, titles, pad_column=True)\n",
    "write_split('titles_part2.txt', part2_ids, titles, pad_column=True)\n",
    "write_split('titles_part3.txt', part3_ids, titles, pad_column=True)"
   ]
  },
  {
   "cell_type": "code",
   "execution_count": 10,
   "id": "0c4257d1",
   "metadata": {},
   "outputs": [],
   "source": [
    "def merge_two_parts(file1, file2, output_file):\n",
    "    with open(output_file, 'w', encoding='utf-8') as fout:\n",
    "        for fname in [file1, file2]:\n",
    "            with open(fname, 'r', encoding='utf-8') as fin:\n",
    "                for line in fin:\n",
    "                    fout.write(line)\n",
    "\n",
    "merge_two_parts('splits/descriptions_part1.txt', 'splits/descriptions_part2.txt', 'splits/descriptionsAB.txt',)\n",
    "merge_two_parts('splits/titles_part1.txt', 'splits/titles_part2.txt', 'splits/titlesAB.txt')"
   ]
  },
  {
   "cell_type": "code",
   "execution_count": 11,
   "id": "1c9e2796",
   "metadata": {},
   "outputs": [],
   "source": [
    "corpusAB = read_movie_description('splits/titlesAB.txt', 'splits/descriptionsAB.txt')"
   ]
  },
  {
   "cell_type": "code",
   "execution_count": 12,
   "id": "4a201e43",
   "metadata": {},
   "outputs": [
    {
     "name": "stderr",
     "output_type": "stream",
     "text": [
      "100%|██████████| 28136/28136 [00:11<00:00, 2523.43it/s]\n",
      "100%|██████████| 28136/28136 [00:16<00:00, 1746.84it/s]\n"
     ]
    }
   ],
   "source": [
    "irAB = IrSystem.from_corpus(corpusAB)"
   ]
  },
  {
   "cell_type": "code",
   "execution_count": 13,
   "id": "35216c7f",
   "metadata": {},
   "outputs": [],
   "source": [
    "corpusC = read_movie_description('splits/titles_part3.txt', 'splits/descriptions_part3.txt')"
   ]
  },
  {
   "cell_type": "code",
   "execution_count": 14,
   "id": "64c3f67b",
   "metadata": {},
   "outputs": [
    {
     "data": {
      "text/plain": [
       "14066"
      ]
     },
     "execution_count": 14,
     "metadata": {},
     "output_type": "execute_result"
    }
   ],
   "source": [
    "len(corpusC)"
   ]
  },
  {
   "cell_type": "code",
   "execution_count": 15,
   "id": "4307eba1",
   "metadata": {},
   "outputs": [
    {
     "data": {
      "text/plain": [
       "28136"
      ]
     },
     "execution_count": 15,
     "metadata": {},
     "output_type": "execute_result"
    }
   ],
   "source": [
    "len(corpusAB)"
   ]
  },
  {
   "cell_type": "code",
   "execution_count": 16,
   "id": "257ca97f",
   "metadata": {},
   "outputs": [
    {
     "data": {
      "text/plain": [
       "28136"
      ]
     },
     "execution_count": 16,
     "metadata": {},
     "output_type": "execute_result"
    }
   ],
   "source": [
    "len(irAB._corpus)"
   ]
  },
  {
   "cell_type": "code",
   "execution_count": 17,
   "id": "233b4048",
   "metadata": {},
   "outputs": [
    {
     "name": "stderr",
     "output_type": "stream",
     "text": [
      "42202it [00:03, 3669.89it/s]\n",
      "42202it [00:10, 1356.01it/s]\n"
     ]
    },
    {
     "data": {
      "text/plain": [
       "<ir_system.IrSystem at 0x3387655d0>"
      ]
     },
     "execution_count": 17,
     "metadata": {},
     "output_type": "execute_result"
    }
   ],
   "source": [
    "irAB.add_docs(corpusC)"
   ]
  },
  {
   "cell_type": "code",
   "execution_count": 18,
   "id": "1b386a10",
   "metadata": {},
   "outputs": [
    {
     "data": {
      "text/plain": [
       "[]"
      ]
     },
     "execution_count": 18,
     "metadata": {},
     "output_type": "execute_result"
    }
   ],
   "source": [
    "irAB.phrase_query('inherits a retirement')"
   ]
  },
  {
   "cell_type": "code",
   "execution_count": 19,
   "id": "b785d3fb",
   "metadata": {},
   "outputs": [
    {
     "data": {
      "text/plain": [
       "42202"
      ]
     },
     "execution_count": 19,
     "metadata": {},
     "output_type": "execute_result"
    }
   ],
   "source": [
    "len(irAB._corpus)"
   ]
  },
  {
   "cell_type": "code",
   "execution_count": 20,
   "id": "e4028c4c",
   "metadata": {},
   "outputs": [
    {
     "data": {
      "text/plain": [
       "<ir_system.IrSystem at 0x3387655d0>"
      ]
     },
     "execution_count": 20,
     "metadata": {},
     "output_type": "execute_result"
    }
   ],
   "source": [
    "irAB.delete_docs([i for i in range(14069, 28135)])"
   ]
  },
  {
   "cell_type": "code",
   "execution_count": 21,
   "id": "d2e9bdf1",
   "metadata": {},
   "outputs": [
    {
     "data": {
      "text/plain": [
       "42202"
      ]
     },
     "execution_count": 21,
     "metadata": {},
     "output_type": "execute_result"
    }
   ],
   "source": [
    "len(corpusAB)"
   ]
  },
  {
   "cell_type": "code",
   "execution_count": 22,
   "id": "8a9fd6c1",
   "metadata": {},
   "outputs": [
    {
     "data": {
      "text/plain": [
       "[The Borrower]"
      ]
     },
     "execution_count": 22,
     "metadata": {},
     "output_type": "execute_result"
    }
   ],
   "source": [
    "irAB.phrase_query('alien serial killer')"
   ]
  }
 ],
 "metadata": {
  "kernelspec": {
   "display_name": ".venv2",
   "language": "python",
   "name": "python3"
  },
  "language_info": {
   "codemirror_mode": {
    "name": "ipython",
    "version": 3
   },
   "file_extension": ".py",
   "mimetype": "text/x-python",
   "name": "python",
   "nbconvert_exporter": "python",
   "pygments_lexer": "ipython3",
   "version": "3.11.8"
  }
 },
 "nbformat": 4,
 "nbformat_minor": 5
}
