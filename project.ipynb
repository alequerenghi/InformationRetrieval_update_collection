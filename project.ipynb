{
 "cells": [
  {
   "cell_type": "code",
   "execution_count": 1,
   "id": "785fc004",
   "metadata": {},
   "outputs": [],
   "source": [
    "from src.ir_system import IrSystem\n",
    "from src.movie_description import MovieDescription, create_corpus"
   ]
  },
  {
   "cell_type": "markdown",
   "id": "034785dd",
   "metadata": {},
   "source": [
    "# Update the dictionary\n",
    "Boolean information retrieval system project focused on the update of the collection allowing for addition and deletion of documents."
   ]
  },
  {
   "cell_type": "markdown",
   "id": "da712953",
   "metadata": {},
   "source": [
    "### Creazione del sitema di IR"
   ]
  },
  {
   "cell_type": "markdown",
   "id": "5fb29a8b",
   "metadata": {},
   "source": [
    "Step 1: Creare il corpus di documenti"
   ]
  },
  {
   "cell_type": "code",
   "execution_count": 2,
   "id": "36de2395",
   "metadata": {},
   "outputs": [
    {
     "data": {
      "text/plain": [
       "42204"
      ]
     },
     "execution_count": 2,
     "metadata": {},
     "output_type": "execute_result"
    }
   ],
   "source": [
    "corpus = create_corpus('data/movie.metadata.tsv', 'data/plot_summaries.txt')\n",
    "total_docs = len(corpus)\n",
    "total_docs"
   ]
  },
  {
   "cell_type": "markdown",
   "id": "22d2dd10",
   "metadata": {},
   "source": [
    "Step 2: Creare il sistema IR (inverted index ed inverted index biword)"
   ]
  },
  {
   "cell_type": "code",
   "execution_count": 3,
   "id": "8b5c2252",
   "metadata": {},
   "outputs": [
    {
     "name": "stderr",
     "output_type": "stream",
     "text": [
      "100%|██████████| 42204/42204 [00:15<00:00, 2647.96it/s]\n",
      "100%|██████████| 42204/42204 [00:30<00:00, 1393.85it/s]\n"
     ]
    }
   ],
   "source": [
    "ir = IrSystem.create_system(corpus)"
   ]
  },
  {
   "cell_type": "markdown",
   "id": "bd215497",
   "metadata": {},
   "source": [
    "### Esempi di query\n",
    "#### 1. Query semplice"
   ]
  },
  {
   "cell_type": "code",
   "execution_count": 4,
   "id": "fb100a0a",
   "metadata": {},
   "outputs": [
    {
     "data": {
      "text/plain": [
       "['3731: Star Wars Episode V: The Empire Strikes Back',\n",
       " '7833: Star Wars Episode II: Attack of the Clones',\n",
       " '9268: George Lucas in Love',\n",
       " '18527: Something, Something, Something Dark Side',\n",
       " '23373: Return of the Ewok',\n",
       " '24906: Aliens in the Wild, Wild West',\n",
       " '27247: Star Wars Episode III: Revenge of the Sith',\n",
       " '31514: Star Wars Episode VI: Return of the Jedi',\n",
       " '33732: Star Wars: The Clone Wars',\n",
       " \"37962: Gulliver's Travels\",\n",
       " '39161: Lego Star Wars: The Quest for R2-D2',\n",
       " \"40974: It's a Trap!\",\n",
       " '42160: LEGO Star Wars: Revenge of the Brick']"
      ]
     },
     "execution_count": 4,
     "metadata": {},
     "output_type": "execute_result"
    }
   ],
   "source": [
    "ir.query(\"yoda\")"
   ]
  },
  {
   "cell_type": "markdown",
   "id": "40eaf231",
   "metadata": {},
   "source": [
    "#### 2. query logiche"
   ]
  },
  {
   "cell_type": "code",
   "execution_count": 5,
   "id": "5a113382",
   "metadata": {},
   "outputs": [
    {
     "data": {
      "text/plain": [
       "['3731: Star Wars Episode V: The Empire Strikes Back',\n",
       " '18527: Something, Something, Something Dark Side',\n",
       " '23373: Return of the Ewok',\n",
       " '31514: Star Wars Episode VI: Return of the Jedi',\n",
       " \"40974: It's a Trap!\"]"
      ]
     },
     "execution_count": 5,
     "metadata": {},
     "output_type": "execute_result"
    }
   ],
   "source": [
    "ir.query(\"(yoda AND NOT wars) OR skywalker AND luke\")"
   ]
  },
  {
   "cell_type": "code",
   "execution_count": 6,
   "id": "d0efabdd",
   "metadata": {},
   "outputs": [
    {
     "data": {
      "text/plain": [
       "[]"
      ]
     },
     "execution_count": 6,
     "metadata": {},
     "output_type": "execute_result"
    }
   ],
   "source": [
    "ir.query(\"parrot AND spaceship\")"
   ]
  },
  {
   "cell_type": "markdown",
   "id": "8be3b539",
   "metadata": {},
   "source": [
    "#### 3. Phrase query (ritorna i documenti che contengono esattamente la sequenza di parole della query)"
   ]
  },
  {
   "cell_type": "code",
   "execution_count": 7,
   "id": "3f991785",
   "metadata": {},
   "outputs": [
    {
     "data": {
      "text/plain": [
       "['3731: Star Wars Episode V: The Empire Strikes Back',\n",
       " '6984: Imaginationland Episode II',\n",
       " '8341: Star Wars Episode IV: A New Hope',\n",
       " '8867: Wishology',\n",
       " '12767: Lego Star Wars: Bombad Bounty',\n",
       " '18527: Something, Something, Something Dark Side',\n",
       " '18532: The Star Wars Holiday Special',\n",
       " '23373: Return of the Ewok',\n",
       " '24258: The Making of Star Wars',\n",
       " '31514: Star Wars Episode VI: Return of the Jedi',\n",
       " \"40974: It's a Trap!\",\n",
       " '41068: Robot Chicken: Star Wars Episode II']"
      ]
     },
     "execution_count": 7,
     "metadata": {},
     "output_type": "execute_result"
    }
   ],
   "source": [
    "ir.phrase_query(\"luke skywalker\")"
   ]
  },
  {
   "cell_type": "markdown",
   "id": "7967b5cf",
   "metadata": {},
   "source": [
    "### Aggiunta di un documento"
   ]
  },
  {
   "cell_type": "code",
   "execution_count": 8,
   "id": "184c0bc4",
   "metadata": {},
   "outputs": [
    {
     "data": {
      "text/plain": [
       "[]"
      ]
     },
     "execution_count": 8,
     "metadata": {},
     "output_type": "execute_result"
    }
   ],
   "source": [
    "# prima dell'aggiunta\n",
    "ir.phrase_query(\"sette amici\")"
   ]
  },
  {
   "cell_type": "code",
   "execution_count": 9,
   "id": "4aff3a46",
   "metadata": {},
   "outputs": [
    {
     "name": "stderr",
     "output_type": "stream",
     "text": [
      "100%|██████████| 1/1 [00:00<00:00, 2637.93it/s]\n",
      "100%|██████████| 1/1 [00:00<00:00, 7345.54it/s]\n"
     ]
    },
    {
     "data": {
      "text/plain": [
       "<src.ir_system.IrSystem at 0x1171cc050>"
      ]
     },
     "execution_count": 9,
     "metadata": {},
     "output_type": "execute_result"
    }
   ],
   "source": [
    "new_title = \"Perfetti sconosciuti\"\n",
    "new_description = \"Film italiano diretto da Paolo Genovese. Racconta di sette amici che, durante una cena, decidono di condividere messaggi e chiamate ricevuti sul cellulare. Il gioco fa emergere segreti nascosti, mettendo a dura prova le loro relazioni.\"\n",
    "new_movie = MovieDescription(new_title, new_description)\n",
    "ir.add_docs([new_movie])"
   ]
  },
  {
   "cell_type": "code",
   "execution_count": 10,
   "id": "da4f702a",
   "metadata": {},
   "outputs": [
    {
     "data": {
      "text/plain": [
       "['42204: Perfetti sconosciuti']"
      ]
     },
     "execution_count": 10,
     "metadata": {},
     "output_type": "execute_result"
    }
   ],
   "source": [
    "# dopo l'aggiunta\n",
    "ir.phrase_query(\"sette amici\")"
   ]
  },
  {
   "cell_type": "markdown",
   "id": "bdb18da3",
   "metadata": {},
   "source": [
    "### Rimozione di documenti"
   ]
  },
  {
   "cell_type": "code",
   "execution_count": 11,
   "id": "41fed629",
   "metadata": {},
   "outputs": [
    {
     "data": {
      "text/plain": [
       "['3731: Star Wars Episode V: The Empire Strikes Back',\n",
       " '7833: Star Wars Episode II: Attack of the Clones',\n",
       " '9268: George Lucas in Love',\n",
       " '18527: Something, Something, Something Dark Side',\n",
       " '23373: Return of the Ewok',\n",
       " '24906: Aliens in the Wild, Wild West',\n",
       " '27247: Star Wars Episode III: Revenge of the Sith',\n",
       " '31514: Star Wars Episode VI: Return of the Jedi',\n",
       " '33732: Star Wars: The Clone Wars',\n",
       " \"37962: Gulliver's Travels\",\n",
       " '39161: Lego Star Wars: The Quest for R2-D2',\n",
       " \"40974: It's a Trap!\",\n",
       " '42160: LEGO Star Wars: Revenge of the Brick']"
      ]
     },
     "execution_count": 11,
     "metadata": {},
     "output_type": "execute_result"
    }
   ],
   "source": [
    "# prima della rimozione\n",
    "ir.query(\"yoda\")"
   ]
  },
  {
   "cell_type": "code",
   "execution_count": 12,
   "id": "9ca6367f",
   "metadata": {},
   "outputs": [
    {
     "data": {
      "text/plain": [
       "<src.ir_system.IrSystem at 0x1171cc050>"
      ]
     },
     "execution_count": 12,
     "metadata": {},
     "output_type": "execute_result"
    }
   ],
   "source": [
    "ir.delete_docs([i for i in range(20000, 39999)])"
   ]
  },
  {
   "cell_type": "code",
   "execution_count": 13,
   "id": "5a0128ed",
   "metadata": {},
   "outputs": [
    {
     "data": {
      "text/plain": [
       "['3731: Star Wars Episode V: The Empire Strikes Back',\n",
       " '7833: Star Wars Episode II: Attack of the Clones',\n",
       " '9268: George Lucas in Love',\n",
       " '18527: Something, Something, Something Dark Side',\n",
       " \"40974: It's a Trap!\",\n",
       " '42160: LEGO Star Wars: Revenge of the Brick']"
      ]
     },
     "execution_count": 13,
     "metadata": {},
     "output_type": "execute_result"
    }
   ],
   "source": [
    "# dopo la rimozione\n",
    "ir.query(\"yoda\")"
   ]
  },
  {
   "cell_type": "markdown",
   "id": "02e0414a",
   "metadata": {},
   "source": [
    "### Test aggiunta e rimozione su tutto il corpus\n",
    "Per testare, si divide il corpus in 3 parti, A, B, e C. Inizialmente l'indice contiene solo A e B, poi C deve essere aggiunta e C."
   ]
  },
  {
   "cell_type": "code",
   "execution_count": 14,
   "id": "105ce1aa",
   "metadata": {},
   "outputs": [
    {
     "name": "stdout",
     "output_type": "stream",
     "text": [
      "tot: 42204,\n",
      "A&B: 28136,\n",
      "C: 14068\n"
     ]
    }
   ],
   "source": [
    "len_AB = (2 * total_docs) // 3\n",
    "len_C = total_docs - len_AB\n",
    "print(f\"tot: {total_docs},\\nA&B: {len_AB},\\nC: {len_C}\")"
   ]
  },
  {
   "cell_type": "code",
   "execution_count": 15,
   "id": "d3cb6012",
   "metadata": {},
   "outputs": [],
   "source": [
    "A_end = len_AB // 2\n",
    "B_end = len_AB\n",
    "\n",
    "# parte A\n",
    "corpus_A = corpus[:A_end]\n",
    "# parte B\n",
    "corpus_B = corpus[A_end:B_end]\n",
    "# parte C\n",
    "corpus_C = corpus[B_end:]"
   ]
  },
  {
   "cell_type": "markdown",
   "id": "40c292f3",
   "metadata": {},
   "source": [
    "#### 1. crea il sistema (IrSystem) iniziale solo con A+B"
   ]
  },
  {
   "cell_type": "code",
   "execution_count": 16,
   "id": "18a5ea6d",
   "metadata": {},
   "outputs": [],
   "source": [
    "corpus_init = corpus_A + corpus_B"
   ]
  },
  {
   "cell_type": "code",
   "execution_count": 17,
   "id": "aac8a040",
   "metadata": {},
   "outputs": [
    {
     "name": "stderr",
     "output_type": "stream",
     "text": [
      "100%|██████████| 28136/28136 [00:16<00:00, 1730.34it/s]\n",
      "100%|██████████| 28136/28136 [00:28<00:00, 979.88it/s] \n"
     ]
    },
    {
     "name": "stdout",
     "output_type": "stream",
     "text": [
      "Corpus iniziale: 28136 documenti\n"
     ]
    }
   ],
   "source": [
    "ir_test = IrSystem.create_system(corpus_init)\n",
    "print(f\"Corpus iniziale: {len(ir_test._corpus)} documenti\")"
   ]
  },
  {
   "cell_type": "markdown",
   "id": "ad9f2a40",
   "metadata": {},
   "source": [
    "Query di test:"
   ]
  },
  {
   "cell_type": "code",
   "execution_count": 18,
   "id": "ab4bb7bf",
   "metadata": {},
   "outputs": [
    {
     "data": {
      "text/plain": [
       "['36: Amici miei', '20304: Earthquake']"
      ]
     },
     "execution_count": 18,
     "metadata": {},
     "output_type": "execute_result"
    }
   ],
   "source": [
    "ir_test.query(\"sette amici\")"
   ]
  },
  {
   "cell_type": "markdown",
   "id": "91f6e69f",
   "metadata": {},
   "source": [
    "#### 2. aggiungi la parte C usando la funzione `IrSystem.add_docs()`"
   ]
  },
  {
   "cell_type": "code",
   "execution_count": 19,
   "id": "1d98dfcf",
   "metadata": {},
   "outputs": [
    {
     "name": "stderr",
     "output_type": "stream",
     "text": [
      "100%|██████████| 14069/14069 [00:04<00:00, 2816.13it/s]\n",
      "100%|██████████| 14069/14069 [00:17<00:00, 813.24it/s] \n"
     ]
    },
    {
     "data": {
      "text/plain": [
       "<src.ir_system.IrSystem at 0x12b72f750>"
      ]
     },
     "execution_count": 19,
     "metadata": {},
     "output_type": "execute_result"
    }
   ],
   "source": [
    "ir_test.add_docs(corpus_C)"
   ]
  },
  {
   "cell_type": "code",
   "execution_count": 20,
   "id": "09ccbf53",
   "metadata": {},
   "outputs": [
    {
     "name": "stdout",
     "output_type": "stream",
     "text": [
      "Dopo add_docs(C):\n",
      "- dimensione indice principale: 111868\n",
      "- dimensione aux index: 73245\n",
      "- corpus attuale: 42205 documenti\n"
     ]
    }
   ],
   "source": [
    "print(f\"Dopo add_docs(C):\\n- dimensione indice principale: {len(ir_test._index)}\\n\"\n",
    "      f\"- dimensione aux index: {len(ir_test._aux_idx) if ir_test._aux_idx else 0}\\n\"\n",
    "      f\"- corpus attuale: {len(ir_test._corpus)} documenti\")"
   ]
  },
  {
   "cell_type": "markdown",
   "id": "cc70e450",
   "metadata": {},
   "source": [
    "Ora la query di esempio ritorna un risultato in più:"
   ]
  },
  {
   "cell_type": "code",
   "execution_count": 21,
   "id": "615152e2",
   "metadata": {},
   "outputs": [
    {
     "data": {
      "text/plain": [
       "['36: Amici miei', '20304: Earthquake', '42204: Perfetti sconosciuti']"
      ]
     },
     "execution_count": 21,
     "metadata": {},
     "output_type": "execute_result"
    }
   ],
   "source": [
    "ir_test.query(\"sette amici\")"
   ]
  },
  {
   "cell_type": "markdown",
   "id": "ae25d0ff",
   "metadata": {},
   "source": [
    "Oss. il sistema effettua il marge dei due indici quando la dimensione dell'indice ausiliario raggiunge `max_size_aux = 80000`. In questo caso tale numero non viene raggiunto, quindi chiamiamo la funzione `_merge_idx()` per forzare il merge e vedere come funziona il sistema:"
   ]
  },
  {
   "cell_type": "code",
   "execution_count": 22,
   "id": "88960528",
   "metadata": {},
   "outputs": [
    {
     "name": "stdout",
     "output_type": "stream",
     "text": [
      "Dopo il merge degli indici:\n",
      "- dimensione indice principale: 144529\n",
      "- dimensione aux index: 0\n",
      "\n"
     ]
    }
   ],
   "source": [
    "ir_test._merge_idx()\n",
    "print(f\"Dopo il merge degli indici:\\n\"\n",
    "      f\"- dimensione indice principale: {len(ir_test._index)}\\n\"\n",
    "      f\"- dimensione aux index: {len(ir_test._aux_idx) if ir_test._aux_idx else 0}\\n\")"
   ]
  },
  {
   "cell_type": "markdown",
   "id": "7fd0105f",
   "metadata": {},
   "source": [
    "#### 3. elimina la parte B usando la funzione `IrSystem.delete_docs()`"
   ]
  },
  {
   "cell_type": "code",
   "execution_count": 23,
   "id": "1b4adab1",
   "metadata": {},
   "outputs": [],
   "source": [
    "# I docID di corpus_B partono dopo corpus_A, quindi da len(corpus_A)\n",
    "start_docID_B = len(corpus_A)\n",
    "end_docID_B = start_docID_B + len(corpus_B)\n",
    "docIDs_B = list(range(start_docID_B, end_docID_B))"
   ]
  },
  {
   "cell_type": "markdown",
   "id": "cba3d7bd",
   "metadata": {},
   "source": [
    "Oss. `delete_docs()` segna nell'invalid vector i docID dei documenti da eliminare. La vera eliminazione viene fatta nel `_merge_idx()`."
   ]
  },
  {
   "cell_type": "code",
   "execution_count": 24,
   "id": "a62c6131",
   "metadata": {},
   "outputs": [
    {
     "data": {
      "text/plain": [
       "<src.ir_system.IrSystem at 0x12b72f750>"
      ]
     },
     "execution_count": 24,
     "metadata": {},
     "output_type": "execute_result"
    }
   ],
   "source": [
    "ir_test.delete_docs(docIDs_B)\n",
    "ir_test._merge_idx()"
   ]
  },
  {
   "cell_type": "code",
   "execution_count": 25,
   "id": "e088562d",
   "metadata": {},
   "outputs": [
    {
     "name": "stdout",
     "output_type": "stream",
     "text": [
      "Dopo delete_docs(B):\n",
      "- documenti marcati come cancellati: 14068 su 42205 totali.\n",
      "- dimensione indice: 112054\n",
      "- corpus attuale: 28137 documenti\n"
     ]
    }
   ],
   "source": [
    "print(f\"Dopo delete_docs(B):\\n- documenti marcati come cancellati: \"\n",
    "      f\"{sum(ir_test._invalid_vec)} su {len(ir_test._invalid_vec)} totali.\\n\"\n",
    "      f\"- dimensione indice: {len(ir_test._index)}\\n\"\n",
    "      f\"- corpus attuale: {len(ir_test)} documenti\")"
   ]
  },
  {
   "cell_type": "markdown",
   "id": "52876d15",
   "metadata": {},
   "source": [
    "Ora la query di esempio ritorna un risultato in meno:"
   ]
  },
  {
   "cell_type": "code",
   "execution_count": 26,
   "id": "b0207cb6",
   "metadata": {},
   "outputs": [
    {
     "data": {
      "text/plain": [
       "['36: Amici miei', '42204: Perfetti sconosciuti']"
      ]
     },
     "execution_count": 26,
     "metadata": {},
     "output_type": "execute_result"
    }
   ],
   "source": [
    "ir_test.query(\"sette amici\")"
   ]
  }
 ],
 "metadata": {
  "kernelspec": {
   "display_name": ".venv",
   "language": "python",
   "name": "python3"
  },
  "language_info": {
   "codemirror_mode": {
    "name": "ipython",
    "version": 3
   },
   "file_extension": ".py",
   "mimetype": "text/x-python",
   "name": "python",
   "nbconvert_exporter": "python",
   "pygments_lexer": "ipython3",
   "version": "3.13.5"
  }
 },
 "nbformat": 4,
 "nbformat_minor": 5
}
